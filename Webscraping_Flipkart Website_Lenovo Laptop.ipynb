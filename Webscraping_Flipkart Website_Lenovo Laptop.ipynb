{
 "cells": [
  {
   "cell_type": "markdown",
   "id": "01ec97a3",
   "metadata": {},
   "source": [
    "# Saving URL into Variable"
   ]
  },
  {
   "cell_type": "code",
   "execution_count": 137,
   "id": "62a23f18",
   "metadata": {},
   "outputs": [],
   "source": [
    "url = []\n",
    "\n",
    "for i in range (1,11):\n",
    "    laptop_url='https://www.flipkart.com/search?q=lenovo+laptop&otracker=search&otracker1=search&marketplace=FLIPKART&as-show=on&as=off&page='\n",
    "    url.append(laptop_url + str(i))\n",
    "    \n",
    "#url1 = 'https://www.flipkart.com/search?q=lenovo+laptop&otracker=search&otracker1=search&marketplace=FLIPKART&as-show=on&as=off&page=1'\n",
    "#url2 = 'https://www.flipkart.com/search?q=lenovo+laptop&otracker=search&otracker1=search&marketplace=FLIPKART&as-show=on&as=off&page=2'\n",
    "    "
   ]
  },
  {
   "cell_type": "code",
   "execution_count": 138,
   "id": "ab68321c",
   "metadata": {},
   "outputs": [
    {
     "data": {
      "text/plain": [
       "['https://www.flipkart.com/search?q=lenovo+laptop&otracker=search&otracker1=search&marketplace=FLIPKART&as-show=on&as=off&page=1',\n",
       " 'https://www.flipkart.com/search?q=lenovo+laptop&otracker=search&otracker1=search&marketplace=FLIPKART&as-show=on&as=off&page=2',\n",
       " 'https://www.flipkart.com/search?q=lenovo+laptop&otracker=search&otracker1=search&marketplace=FLIPKART&as-show=on&as=off&page=3',\n",
       " 'https://www.flipkart.com/search?q=lenovo+laptop&otracker=search&otracker1=search&marketplace=FLIPKART&as-show=on&as=off&page=4',\n",
       " 'https://www.flipkart.com/search?q=lenovo+laptop&otracker=search&otracker1=search&marketplace=FLIPKART&as-show=on&as=off&page=5',\n",
       " 'https://www.flipkart.com/search?q=lenovo+laptop&otracker=search&otracker1=search&marketplace=FLIPKART&as-show=on&as=off&page=6',\n",
       " 'https://www.flipkart.com/search?q=lenovo+laptop&otracker=search&otracker1=search&marketplace=FLIPKART&as-show=on&as=off&page=7',\n",
       " 'https://www.flipkart.com/search?q=lenovo+laptop&otracker=search&otracker1=search&marketplace=FLIPKART&as-show=on&as=off&page=8',\n",
       " 'https://www.flipkart.com/search?q=lenovo+laptop&otracker=search&otracker1=search&marketplace=FLIPKART&as-show=on&as=off&page=9',\n",
       " 'https://www.flipkart.com/search?q=lenovo+laptop&otracker=search&otracker1=search&marketplace=FLIPKART&as-show=on&as=off&page=10']"
      ]
     },
     "execution_count": 138,
     "metadata": {},
     "output_type": "execute_result"
    }
   ],
   "source": [
    "url"
   ]
  },
  {
   "cell_type": "markdown",
   "id": "daa1eefc",
   "metadata": {},
   "source": [
    "# Creating a Functon to Fetch Data"
   ]
  },
  {
   "cell_type": "code",
   "execution_count": 139,
   "id": "e189c54c",
   "metadata": {},
   "outputs": [],
   "source": [
    "def flipcart_lenovo_laptop(url):\n",
    "    import requests\n",
    "    from bs4 import BeautifulSoup\n",
    "    soup = BeautifulSoup(requests.get(url).content)\n",
    "    Name=[]\n",
    "    Price=[]\n",
    "    for i in soup.find_all('div',class_='_4rR01T'):\n",
    "        Name.append(i.text)\n",
    "    for j in soup.find_all('div',class_='_30jeq3 _1_WHN1'):\n",
    "        Price.append(j.text)\n",
    "    return Name, Price\n"
   ]
  },
  {
   "cell_type": "code",
   "execution_count": 140,
   "id": "193f9db5",
   "metadata": {},
   "outputs": [],
   "source": [
    "final_name = []\n",
    "final_price = []\n",
    "for i in url:\n",
    "    Name, Price = flipcart_lenovo_laptop(i)\n",
    "    final_name.extend(Name)\n",
    "    final_price.extend(Price)"
   ]
  },
  {
   "cell_type": "code",
   "execution_count": 141,
   "id": "31b5601c",
   "metadata": {},
   "outputs": [
    {
     "data": {
      "text/plain": [
       "(237, 237)"
      ]
     },
     "execution_count": 141,
     "metadata": {},
     "output_type": "execute_result"
    }
   ],
   "source": [
    "len(final_price), len(final_name)    # Checking length of both lists"
   ]
  },
  {
   "cell_type": "markdown",
   "id": "cea068af",
   "metadata": {},
   "source": [
    "# Creating Dataframe & Exporting the Data into Excel File"
   ]
  },
  {
   "cell_type": "code",
   "execution_count": 142,
   "id": "f6f0bc0d",
   "metadata": {},
   "outputs": [],
   "source": [
    "import pandas as pd\n",
    "\n",
    "lenovo_laptop_details = pd.DataFrame([final_name,final_price]).T\n",
    "lenovo_laptop_details.columns = ['Laptop_Name', 'Price']"
   ]
  },
  {
   "cell_type": "code",
   "execution_count": 143,
   "id": "30f3d967",
   "metadata": {},
   "outputs": [
    {
     "data": {
      "text/html": [
       "<div>\n",
       "<style scoped>\n",
       "    .dataframe tbody tr th:only-of-type {\n",
       "        vertical-align: middle;\n",
       "    }\n",
       "\n",
       "    .dataframe tbody tr th {\n",
       "        vertical-align: top;\n",
       "    }\n",
       "\n",
       "    .dataframe thead th {\n",
       "        text-align: right;\n",
       "    }\n",
       "</style>\n",
       "<table border=\"1\" class=\"dataframe\">\n",
       "  <thead>\n",
       "    <tr style=\"text-align: right;\">\n",
       "      <th></th>\n",
       "      <th>Laptop_Name</th>\n",
       "      <th>Price</th>\n",
       "    </tr>\n",
       "  </thead>\n",
       "  <tbody>\n",
       "    <tr>\n",
       "      <th>0</th>\n",
       "      <td>Lenovo IdeaPad 3 Core i3 10th Gen - (8 GB/256 ...</td>\n",
       "      <td>₹33,490</td>\n",
       "    </tr>\n",
       "    <tr>\n",
       "      <th>1</th>\n",
       "      <td>Lenovo IdeaPad 3 Core i3 11th Gen - (8 GB/512 ...</td>\n",
       "      <td>₹38,490</td>\n",
       "    </tr>\n",
       "    <tr>\n",
       "      <th>2</th>\n",
       "      <td>Lenovo IdeaPad 3 Core i3 10th Gen - (8 GB/256 ...</td>\n",
       "      <td>₹33,490</td>\n",
       "    </tr>\n",
       "    <tr>\n",
       "      <th>3</th>\n",
       "      <td>Lenovo IdeaPad 3 Ryzen 5 Hexa Core 5500U - (8 ...</td>\n",
       "      <td>₹47,490</td>\n",
       "    </tr>\n",
       "    <tr>\n",
       "      <th>4</th>\n",
       "      <td>Lenovo Core i3 10th Gen - (8 GB/512 GB SSD/Win...</td>\n",
       "      <td>₹36,990</td>\n",
       "    </tr>\n",
       "    <tr>\n",
       "      <th>...</th>\n",
       "      <td>...</td>\n",
       "      <td>...</td>\n",
       "    </tr>\n",
       "    <tr>\n",
       "      <th>232</th>\n",
       "      <td>Lenovo IdeaPad 3 Core i3 11th Gen - (8 GB/256 ...</td>\n",
       "      <td>₹39,990</td>\n",
       "    </tr>\n",
       "    <tr>\n",
       "      <th>233</th>\n",
       "      <td>Lenovo IdeaPad 3 Core i3 10th Gen - (8 GB/1 TB...</td>\n",
       "      <td>₹39,990</td>\n",
       "    </tr>\n",
       "    <tr>\n",
       "      <th>234</th>\n",
       "      <td>Lenovo Core i7 11th Gen - (16 GB/512 GB SSD/Wi...</td>\n",
       "      <td>₹1,05,990</td>\n",
       "    </tr>\n",
       "    <tr>\n",
       "      <th>235</th>\n",
       "      <td>Lenovo Core i3 10th Gen - (4 GB/256 GB SSD/Win...</td>\n",
       "      <td>₹38,700</td>\n",
       "    </tr>\n",
       "    <tr>\n",
       "      <th>236</th>\n",
       "      <td>Lenovo Ideapad 330 Core i5 8th Gen - (4 GB + 1...</td>\n",
       "      <td>₹43,989</td>\n",
       "    </tr>\n",
       "  </tbody>\n",
       "</table>\n",
       "<p>237 rows × 2 columns</p>\n",
       "</div>"
      ],
      "text/plain": [
       "                                           Laptop_Name      Price\n",
       "0    Lenovo IdeaPad 3 Core i3 10th Gen - (8 GB/256 ...    ₹33,490\n",
       "1    Lenovo IdeaPad 3 Core i3 11th Gen - (8 GB/512 ...    ₹38,490\n",
       "2    Lenovo IdeaPad 3 Core i3 10th Gen - (8 GB/256 ...    ₹33,490\n",
       "3    Lenovo IdeaPad 3 Ryzen 5 Hexa Core 5500U - (8 ...    ₹47,490\n",
       "4    Lenovo Core i3 10th Gen - (8 GB/512 GB SSD/Win...    ₹36,990\n",
       "..                                                 ...        ...\n",
       "232  Lenovo IdeaPad 3 Core i3 11th Gen - (8 GB/256 ...    ₹39,990\n",
       "233  Lenovo IdeaPad 3 Core i3 10th Gen - (8 GB/1 TB...    ₹39,990\n",
       "234  Lenovo Core i7 11th Gen - (16 GB/512 GB SSD/Wi...  ₹1,05,990\n",
       "235  Lenovo Core i3 10th Gen - (4 GB/256 GB SSD/Win...    ₹38,700\n",
       "236  Lenovo Ideapad 330 Core i5 8th Gen - (4 GB + 1...    ₹43,989\n",
       "\n",
       "[237 rows x 2 columns]"
      ]
     },
     "execution_count": 143,
     "metadata": {},
     "output_type": "execute_result"
    }
   ],
   "source": [
    "lenovo_laptop_details"
   ]
  },
  {
   "cell_type": "code",
   "execution_count": 131,
   "id": "9b4fdb26",
   "metadata": {},
   "outputs": [],
   "source": [
    "lenovo_laptop_details.to_csv('Lenovo_laptop_details.csv')"
   ]
  }
 ],
 "metadata": {
  "kernelspec": {
   "display_name": "Python 3 (ipykernel)",
   "language": "python",
   "name": "python3"
  },
  "language_info": {
   "codemirror_mode": {
    "name": "ipython",
    "version": 3
   },
   "file_extension": ".py",
   "mimetype": "text/x-python",
   "name": "python",
   "nbconvert_exporter": "python",
   "pygments_lexer": "ipython3",
   "version": "3.9.7"
  }
 },
 "nbformat": 4,
 "nbformat_minor": 5
}
